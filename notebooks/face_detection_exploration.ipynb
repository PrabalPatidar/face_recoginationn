{
  "cells": [
    {
      "cell_type": "markdown",
      "metadata": {},
      "source": [
        "# Face Detection Exploration\n",
        "\n",
        "This notebook explores different face detection methods and their performance characteristics.\n"
      ]
    },
    {
      "cell_type": "code",
      "execution_count": null,
      "metadata": {},
      "outputs": [],
      "source": [
        "import cv2\n",
        "import numpy as np\n",
        "import matplotlib.pyplot as plt\n",
        "import time\n",
        "from pathlib import Path\n",
        "\n",
        "# Add src to path\n",
        "import sys\n",
        "sys.path.append('../src')\n",
        "\n",
        "from face_scan.core.face_detector import FaceDetector\n",
        "from face_scan.core.image_processor import ImageProcessor\n"
      ]
    }
  ],
  "metadata": {
    "language_info": {
      "name": "python"
    }
  },
  "nbformat": 4,
  "nbformat_minor": 2
}
